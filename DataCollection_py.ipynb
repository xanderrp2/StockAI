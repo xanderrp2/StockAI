{
  "nbformat": 4,
  "nbformat_minor": 0,
  "metadata": {
    "colab": {
      "provenance": [],
      "mount_file_id": "1Yf9AqmPYukX733_F1RCse1SYfBht0VkN",
      "authorship_tag": "ABX9TyNCH3Pc6GVJVCa0EQFzsTJ3",
      "include_colab_link": true
    },
    "kernelspec": {
      "name": "python3",
      "display_name": "Python 3"
    },
    "language_info": {
      "name": "python"
    }
  },
  "cells": [
    {
      "cell_type": "markdown",
      "metadata": {
        "id": "view-in-github",
        "colab_type": "text"
      },
      "source": [
        "<a href=\"https://colab.research.google.com/github/xanderrp2/StockAI/blob/main/DataCollection_py.ipynb\" target=\"_parent\"><img src=\"https://colab.research.google.com/assets/colab-badge.svg\" alt=\"Open In Colab\"/></a>"
      ]
    },
    {
      "cell_type": "code",
      "execution_count": null,
      "metadata": {
        "id": "BPrMG-TTw1QN"
      },
      "outputs": [],
      "source": [
        "import requests\n",
        "import numpy as np\n",
        "from collections import Counter\n",
        "from datetime import datetime\n",
        "\n",
        "# Replace with your News API key\n",
        "API_KEY = '---newskey---'\n",
        "BASE_URL = 'https://newsapi.org/v2/everything'\n",
        "WordListLength = 10000\n",
        "\n",
        "# Define the function to fetch today's news headlines\n",
        "def fetch_news(query='*', language='en', page_size=10):\n",
        "    today = datetime.now().strftime('%Y-%m-%d')\n",
        "    params = {\n",
        "        'q': query,\n",
        "        'language': language,\n",
        "        'from': today,\n",
        "        'to': today,\n",
        "        'sortBy': 'publishedAt',\n",
        "        'pageSize': page_size,\n",
        "        'apiKey': API_KEY,\n",
        "    }\n",
        "    response = requests.get(BASE_URL, params=params)\n",
        "    if response.status_code == 200:\n",
        "        return response.json().get('articles', [])\n",
        "    else:\n",
        "        raise Exception(f\"Error fetching news: {response.status_code}, {response.text}\")\n",
        "\n",
        "def vectorize_text(text, word_vectors):\n",
        "    vector = np.zeros(WordListLength)\n",
        "    words = text.lower().split()\n",
        "    for word in words:\n",
        "        if word in word_vectors:\n",
        "          vector += word_vectors[word]\n",
        "    return vector\n",
        "\n",
        "\n",
        "# Organize news into lists (no tensors for strings)\n",
        "def organize_news(articles):\n",
        "    data = {\n",
        "        \"sources\": [],\n",
        "        \"headlines\": [],\n",
        "        \"dates\": [],\n",
        "        \"contents\": []\n",
        "    }\n",
        "\n",
        "    for articles in article:\n",
        "        data[\"sources\"].append(articles.get('source', {}).get('name', 'Unknown'))\n",
        "        data[\"headlines\"].append(articles.get('title', 'No Title'))\n",
        "        data[\"dates\"].append(articles.get('publishedAt', 'No Date'))\n",
        "        data[\"contents\"].append(articles.get('content', 'No Content'))\n",
        "\n",
        "    return data\n"
      ]
    },
    {
      "cell_type": "code",
      "source": [
        "def file_to_dict(file_path):\n",
        "    \"\"\"\n",
        "    Reads a file and creates a dictionary with each line as a key and 0 as its value.\n",
        "\n",
        "    Args:\n",
        "        file_path (str): Path to the text file.\n",
        "\n",
        "    Returns:\n",
        "        dict: Dictionary with lines from the file as keys and 0 as their values.\n",
        "    \"\"\"\n",
        "    try:\n",
        "        with open(file_path, 'r') as file:\n",
        "            lines = file.read().splitlines()  # Read all lines and strip newlines\n",
        "        return {line.rstrip('\\\\'): 0 for line in lines if line.strip()}  # Ignore empty lines\n",
        "    except FileNotFoundError:\n",
        "        print(f\"Error: File not found at '{file_path}'\")\n",
        "        return {}\n",
        "    except Exception as e:\n",
        "        print(f\"Error: {e}\")\n",
        "        return {}\n",
        "\n",
        "file_path = 'Allwords.txt'\n",
        "result_dict = file_to_dict(file_path)"
      ],
      "metadata": {
        "id": "vUgz6CTBFYJD"
      },
      "execution_count": null,
      "outputs": []
    },
    {
      "cell_type": "code",
      "source": [
        "def vectorizeNews(data, words):\n",
        "  # Vectorize headlines\n",
        "  for i in range(len(data[\"headlines\"])):\n",
        "    data[\"headlines\"][i] = vectorize_text(data[\"headlines\"][i], words)\n",
        "\n",
        "  # Vectorize contents\n",
        "  for i in range(len(data[\"contents\"])):\n",
        "    data[\"contents\"][i] = vectorize_text(data[\"contents\"][i], words)\n",
        "\n",
        "  return data"
      ],
      "metadata": {
        "id": "F1BHBBdV5XHh"
      },
      "execution_count": null,
      "outputs": []
    },
    {
      "cell_type": "code",
      "source": [
        "if __name__ == \"__main__\":\n",
        "    try:\n",
        "        # Fetch news articles\n",
        "        articles = fetch_news(query='technology')\n",
        "\n",
        "        # Organize into lists\n",
        "        news_data = organize_news(articles)\n",
        "\n",
        "        # Vectorize data into 10000d vectors\n",
        "        news_data = vectorizeNews(news_data, result_dict)\n",
        "\n",
        "        # Print organized data\n",
        "        print(\"Sources:\", news_data[\"sources\"])\n",
        "        print(\"Headlines:\", news_data[\"headlines\"])\n",
        "        print(\"Dates:\", news_data[\"dates\"])\n",
        "        print(\"Contents:\", news_data[\"contents\"])\n",
        "\n",
        "\n",
        "    except Exception as e:\n",
        "        print(\"An error occurred:\", e)"
      ],
      "metadata": {
        "collapsed": true,
        "id": "jhUJjm7Y2WZD"
      },
      "execution_count": null,
      "outputs": []
    }
  ]
}
